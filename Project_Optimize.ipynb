{
 "cells": [
  {
   "cell_type": "code",
   "execution_count": 111,
   "metadata": {},
   "outputs": [],
   "source": [
    "# PS. Please use Python 3.8 or lower (3.9 upper cannot run this code because of some PC cannot install library wordcloud)\n",
    "# for best apperance plase run this code on Original Jupyter Notebook (Not Recommend Visual Studio Code and Google Colab)\n",
    "# Some output from this code cannot be display in Google Colab (Everything from library pyechart)"
   ]
  },
  {
   "cell_type": "code",
   "execution_count": 112,
   "metadata": {},
   "outputs": [],
   "source": [
    "# !pip install pandas\n",
    "# !pip install matplotlib\n",
    "# !pip install numpy\n",
    "# !pip install wordcloud\n",
    "# !pip install pyecharts"
   ]
  },
  {
   "cell_type": "code",
   "execution_count": 113,
   "metadata": {},
   "outputs": [],
   "source": [
    "import pandas as pd\n",
    "import matplotlib.pyplot as plt\n",
    "import numpy as np"
   ]
  },
  {
   "cell_type": "code",
   "execution_count": 114,
   "metadata": {},
   "outputs": [],
   "source": [
    "import re"
   ]
  },
  {
   "cell_type": "code",
   "execution_count": 115,
   "metadata": {},
   "outputs": [],
   "source": [
    "# import nltk  \n",
    "# nltk.download('stopwords') \n",
    "# from nltk.corpus import stopwords \n",
    "# from nltk.stem.porter import PorterStemmer"
   ]
  },
  {
   "cell_type": "code",
   "execution_count": 116,
   "metadata": {},
   "outputs": [],
   "source": [
    "# from wordcloud import WordCloud,STOPWORDS\n",
    "# from nltk.stem import WordNetLemmatizer\n",
    "# from nltk.tokenize import word_tokenize,sent_tokenize\n",
    "# stop_word = stopwords.words('english')"
   ]
  },
  {
   "cell_type": "code",
   "execution_count": 117,
   "metadata": {},
   "outputs": [],
   "source": [
    "from wordcloud import WordCloud,STOPWORDS\n",
    "stop_word = set(STOPWORDS)"
   ]
  },
  {
   "cell_type": "code",
   "execution_count": 118,
   "metadata": {},
   "outputs": [],
   "source": [
    "import datetime\n",
    "from datetime import date\n",
    "from datetime import time\n",
    "from datetime import datetime"
   ]
  },
  {
   "cell_type": "code",
   "execution_count": 119,
   "metadata": {},
   "outputs": [],
   "source": [
    "days = [\"Monday\",\"Tuesday\",\"Wednesday\",\"Thursday\",\"Friday\",\"Saturday\",\"Sunday\"]"
   ]
  },
  {
   "cell_type": "code",
   "execution_count": 120,
   "metadata": {},
   "outputs": [],
   "source": [
    "from pyecharts import options as opts\n",
    "from pyecharts.charts import Page, WordCloud\n",
    "from pyecharts.globals import SymbolType\n",
    "from pyecharts.charts import Pie\n",
    "from pyecharts.charts import Bar"
   ]
  },
  {
   "cell_type": "code",
   "execution_count": 121,
   "metadata": {},
   "outputs": [],
   "source": [
    "from collections import Counter"
   ]
  },
  {
   "cell_type": "code",
   "execution_count": 122,
   "metadata": {},
   "outputs": [],
   "source": [
    "file_test = pd.read_csv('Corona_NLP_test.csv',encoding= 'ISO-8859-1')\n",
    "file_train = pd.read_csv('Corona_NLP_train.csv',encoding= 'ISO-8859-1')\n",
    "file_test_original = file_test.copy()\n",
    "file_train_original = file_train.copy()"
   ]
  },
  {
   "cell_type": "code",
   "execution_count": 123,
   "metadata": {},
   "outputs": [],
   "source": [
    "def exit(var1): return var1 == 'Exit' or var1 == 'exit' or var1 == 'EXIT' \n",
    "\n",
    "def exit_prompting() :\n",
    "    exit_prompt = input('\\nDo you want to exit ?(input \"Yes\" or \"No\" only):').capitalize()\n",
    "    if exit_prompt == 'Yes' : \n",
    "        print('<<<<< EXITING >>>>>')\n",
    "        return True\n",
    "    else : pass\n",
    "\n",
    "def another_prompt():\n",
    "    global procedure\n",
    "    procedure = 9\n",
    "    while  procedure == 9 :\n",
    "        another_prompt = input('\\nAnother data ? (input \"Yes\" or \"No\" only) : ').capitalize()\n",
    "        if another_prompt == 'Yes' :\n",
    "            main()\n",
    "        elif another_prompt == 'No' : \n",
    "            print('<<<<< EXITING >>>>>') \n",
    "            procedure = 999\n",
    "            break\n",
    "        else : print('invalid input')\n",
    "    "
   ]
  },
  {
   "cell_type": "code",
   "execution_count": 124,
   "metadata": {},
   "outputs": [],
   "source": [
    "def select_database() :\n",
    "  global procedure\n",
    "  global database\n",
    "  global File\n",
    "  procedure = 0\n",
    "  while procedure == 0 :\n",
    "    database = input('\\nWhat database do you want ?\\n\\t(1) Corona_NLP_test.csv\\n\\t(2) Corona_NLP_train.csv\\nDatabase : ').lower()\n",
    "    if exit(database) :\n",
    "      if exit_prompting() == True : break\n",
    "    elif database == '1' or database == 'corona_nlp_test.csv' or database == 'corona_nlp_test' or database == 'test'   :\n",
    "      database = 'Corona_NLP_test.csv'  \n",
    "      File = file_test\n",
    "      return True\n",
    "    elif database == '2' or database == 'corona_nlp_train.csv' or database == 'corona_nlp_train' or database == 'train' :\n",
    "      database = 'Corona_NLP_train.csv'\n",
    "      File = file_train\n",
    "      return True\n",
    "    else : print('>>>Invalid input<<<')"
   ]
  },
  {
   "cell_type": "code",
   "execution_count": 125,
   "metadata": {},
   "outputs": [],
   "source": [
    "def select_operation() :\n",
    "  global procedure\n",
    "  procedure = 1\n",
    "  while procedure == 1 :\n",
    "    operation = input('\\nWhat operation do you want with ?\\n\\t(1) Stopword counting\\n\\t(2) Sentiment counting\\n\\t(3) Word Frequency\\n\\t(4) Date Frequency\\n\\t(5) Location counting\\nOperation : ').lower()\n",
    "    if exit(operation) :\n",
    "      if exit_prompting() == True : break\n",
    "    elif operation == '1' or operation == 'stopword counting'   :\n",
    "      procedure = 2\n",
    "      stopword_count(procedure)\n",
    "    elif operation == '2' or operation == 'sentiment counting' :\n",
    "      procedure = 3\n",
    "      sentiment_count(procedure)\n",
    "    elif operation == '3' or operation == 'word frequency':\n",
    "      procedure = 4\n",
    "      word_freq(procedure)\n",
    "    elif operation == '4' or operation == 'date frequency':\n",
    "      procedure = 5\n",
    "      date_feq(procedure)\n",
    "    elif operation == '5' or operation == 'location counting' :\n",
    "      procedure = 6\n",
    "      loc_count(procedure)\n",
    "    else :\n",
    "      print('>>>Invalid input<<<')"
   ]
  },
  {
   "cell_type": "markdown",
   "metadata": {},
   "source": [
    "Function ใช้ในการนับ stopword\n",
    "\n",
    "accomplished objective in Project Specification\n",
    "1. data type/variable/Expression\n",
    "2. selection(if/elif/else)\n",
    "3. Repettition\n",
    "    - while loop\n",
    "    - for loop \n",
    "    - break\n",
    "    - nested loop\n",
    "4. Data structure\n",
    "    - 1D List\n",
    "    - ผลจาก most_occur --> tuple ที่ซ้อนอยู่ใน list\n",
    "5. Function\n",
    "    - สร้าง function stopword_count โดยประยุกต์ร่วมกับ fuction stwc_operation(File) \n",
    "    - มีการรับค่า parameter ของ function stopword_count(procedure) ได้อย่างถูกต้อง\n",
    "    - มีการใช้ local variable และ global variable\n",
    "5. String, Input/Output Files\n",
    "    - ใช้ pandas ในการอ่านไฟล์\n",
    "6. Modules\n",
    "    - built-in Modules : from collection import Counter\n",
    "    - third-party Modules :pandas, pyechart, wordcloud"
   ]
  },
  {
   "cell_type": "code",
   "execution_count": 126,
   "metadata": {},
   "outputs": [],
   "source": [
    "def stopword_count(procedure):\n",
    "  global stopword_value\n",
    "  while procedure == 2 :\n",
    "    stopword_value = input('\\nHow many words do you want ?\\nNumber of words : ')\n",
    "    if exit(stopword_value) : \n",
    "      if exit_prompting() == True : break\n",
    "    output = input('what output do you want from stopword counting ?\\n\\t(1) Text (2) Picture\\nOutput : ')\n",
    "    if exit(output) : \n",
    "      if exit_prompting() == True : break\n",
    "    elif output == '1':\n",
    "      stwc_operation(File)\n",
    "      print(\"Most\",stopword_value,\"Stopword frequency\")\n",
    "      for i in most_occur :\n",
    "        for j in range(2) :\n",
    "          if j == 0 :\n",
    "              print(i[j],'\\t:',end= ' ')\n",
    "          else :\n",
    "              print(i[j])\n",
    "      procedure = 9\n",
    "      another_prompt()\n",
    "    elif output == '2' :\n",
    "      stwc_operation(File)\n",
    "      words = most_occur\n",
    "      count_stopword_freq_wc = (WordCloud()\n",
    "        .add(\"\", words, word_size_range=[20, 150], shape='cardioid')\n",
    "        .set_global_opts(title_opts=opts.TitleOpts(title=\"Most \"+stopword_value+\" Stopword frequency\",subtitle= database)))\n",
    "      display(count_stopword_freq_wc.render_notebook())\n",
    "      procedure = 9\n",
    "      another_prompt()\n",
    "    else :\n",
    "      print('>>>Invalid input<<<\\n')"
   ]
  },
  {
   "cell_type": "code",
   "execution_count": 127,
   "metadata": {},
   "outputs": [],
   "source": [
    "def stwc_operation(File):\n",
    "    from collections import Counter\n",
    "    global most_occur\n",
    "    Tweet_info = []\n",
    "    for i in range(File.shape[0]) :\n",
    "      data = File[\"OriginalTweet\"][i]\n",
    "      data = data.split(' ')\n",
    "      for j in data :\n",
    "          if j in stop_word :        \n",
    "              Tweet_info.append(j)\n",
    "    split_it = Tweet_info\n",
    "    Counter = Counter(split_it)\n",
    "    most_occur = Counter.most_common(int(stopword_value))"
   ]
  },
  {
   "cell_type": "code",
   "execution_count": 128,
   "metadata": {},
   "outputs": [],
   "source": [
    "def sentiment_count(procedure):\n",
    "    while procedure == 3 :\n",
    "        output = input('\\nwhat output do you want from sentiment counting ?\\n\\t(1) Text (2) Pie chart\\nOutput : ').lower()\n",
    "        if exit(output) : \n",
    "            if exit_prompting() == True : break\n",
    "        elif output == '1' or output == 'text' :\n",
    "            print(database,'Sentiment Counting')\n",
    "            print(File[\"Sentiment\"].value_counts())\n",
    "            procedure = 9\n",
    "            another_prompt()\n",
    "        elif output == '2' or output == 'pie' or output == 'pie chart' :\n",
    "            sentiment_pie()\n",
    "            procedure = 9\n",
    "            another_prompt()\n",
    "        else :\n",
    "            print('>>>Invalid input<<<\\n') "
   ]
  },
  {
   "cell_type": "code",
   "execution_count": 129,
   "metadata": {},
   "outputs": [],
   "source": [
    "def sentiment_pie():\n",
    "    sentiment = ['Extremely positive','Positive','Neutral','Negative','Extremely negative']\n",
    "    test_sentiment_count = []\n",
    "    train_sentiment_count = []\n",
    "    for i in sentiment :\n",
    "        test_count = 0\n",
    "        train_count = 0\n",
    "        for j in range(file_test.shape[0]):\n",
    "            if file_test[\"Sentiment\"][j].lower() == i.lower() :\n",
    "                test_count += 1\n",
    "        for k in range(file_train.shape[0]):\n",
    "            if file_train[\"Sentiment\"][k].lower() == i.lower() :\n",
    "                train_count += 1\n",
    "        test_sentiment_count.append(test_count)\n",
    "        train_sentiment_count.append(train_count)\n",
    "    pie_display = (Pie().add(\"\", [list(z) for z in zip(sentiment,test_sentiment_count)])\n",
    "        .set_global_opts(title_opts=opts.TitleOpts(title=\"Count Sentiment\",subtitle=database))\n",
    "        .set_series_opts(label_opts=opts.LabelOpts(formatter=\"{b}: {c}\")))\n",
    "    display(pie_display.render_notebook())"
   ]
  },
  {
   "cell_type": "code",
   "execution_count": 130,
   "metadata": {},
   "outputs": [],
   "source": [
    "def word_freq():\n",
    "    global File_word\n",
    "    global word_value\n",
    "    if database == 'Corona_NLP_test.csv': File_word = file_test_original\n",
    "    else : File_word = file_train_original\n",
    "    procedure = 4\n",
    "    while procedure == 4 :\n",
    "        word_value = int(input('\\nHow many word do you want ?'))\n",
    "        output = input('what output do you want from word frequency ?\\n\\t(1) Text (2) Picture\\nOutput : ').lower()\n",
    "        stop_word.add('.')\n",
    "        stop_word.add('-')\n",
    "        stop_word.add('?')\n",
    "        stop_word.add(',')\n",
    "        File_word['OriginalTweet'] = File_word['OriginalTweet'].apply(lambda x: Analytic_data(x))\n",
    "        if exit(output) : \n",
    "            if exit_prompting() == True : break\n",
    "        elif output == '1' or output == 'text' :\n",
    "            wordcount_operation(File_word)\n",
    "            print(\"Most \"+str(word_value)+\" Word frequence\")\n",
    "            for i in most_occur_word :\n",
    "                for j in range(2) :\n",
    "                    if j == 0 :\n",
    "                        print(i[j],'\\t:',end= ' ')\n",
    "                    else :\n",
    "                        print(i[j])\n",
    "            procedure = 9\n",
    "            another_prompt()\n",
    "        elif output == '2' or output == 'picture' :\n",
    "            wordcount_operation(File_word)\n",
    "            words = most_occur_word\n",
    "            count_word_freq_wc = (WordCloud()\n",
    "                .add(\"\", words, word_size_range=[20, 150], shape='cardioid')\n",
    "                .set_global_opts(title_opts=opts.TitleOpts(title=\"Most \"+str(word_value)+\" Word frequence\",subtitle= database)))\n",
    "            display(count_word_freq_wc.render_notebook())\n",
    "            procedure = 9\n",
    "            another_prompt()\n",
    "        else : print('>>>Invalid input<<<\\n')\n",
    "            "
   ]
  },
  {
   "cell_type": "code",
   "execution_count": 131,
   "metadata": {},
   "outputs": [],
   "source": [
    "def Analytic_data(data) :\n",
    "    # remove urls\n",
    "    data = re.sub(r'http\\S+', \" \", data)\n",
    "    # remove mentions\n",
    "    data = re.sub(r'@\\w+',' ', data)\n",
    "    # remove hastags\n",
    "    data = re.sub(r'#\\w+', ' ', data)\n",
    "    # remove digits\n",
    "    data = re.sub(r'\\d+', ' ', data)\n",
    "    # remove html tags\n",
    "    data = re.sub('r<.*?>',' ', data)   \n",
    "    # remove stop words \n",
    "    data = data.split()\n",
    "    data = \" \".join([word for word in data if not word in stop_word])         \n",
    "    return data"
   ]
  },
  {
   "cell_type": "code",
   "execution_count": 132,
   "metadata": {},
   "outputs": [],
   "source": [
    "def wordcount_operation(File_word):\n",
    "    from collections import Counter\n",
    "    global Tweet_info_g\n",
    "    global most_occur_word\n",
    "    Tweet_info_g = []\n",
    "    for i in range(File_word.shape[0]) :\n",
    "      data = File_word[\"OriginalTweet\"][i].lower()\n",
    "      data = data.split(' ')\n",
    "      for j in data :\n",
    "          if j not in stop_word :        \n",
    "              Tweet_info_g.append(j)\n",
    "    split_it = Tweet_info_g\n",
    "    Counter = Counter(split_it)\n",
    "    most_occur_word = Counter.most_common(word_value)"
   ]
  },
  {
   "cell_type": "code",
   "execution_count": 133,
   "metadata": {},
   "outputs": [],
   "source": [
    "def date_feq(procedure):\n",
    "    global date_dic\n",
    "    if database == 'Corona_NLP_test.csv': File = file_test\n",
    "    else : File = file_train\n",
    "    while procedure == 5 :\n",
    "        output = input('\\nwhat output do you want from date fequency ?\\n\\t(1) Text (2) Pie chart\\nOutput : ').lower()\n",
    "        date_info = []\n",
    "        date_dic = {}\n",
    "        for i in range(File.shape[0]):\n",
    "            date_str = File['TweetAt'][i]\n",
    "            date_obj = datetime.strptime(date_str, '%d-%m-%Y')\n",
    "            date_info.append(days[date_obj.weekday()])\n",
    "        for j in days :              \n",
    "                date_dic[j] = date_info.count(j)\n",
    "        if exit(output) : \n",
    "            if exit_prompting() == True : break\n",
    "        elif output == '1' or output == 'text' :\n",
    "            print(database,'Date frequency')\n",
    "            for j in days :\n",
    "                print(j+'\\t:'+str(date_info.count(j)))                \n",
    "            procedure = 9\n",
    "            another_prompt()\n",
    "        elif output == '2' or output == 'pie' or output == 'pie chart' :\n",
    "            piedate = (Pie().add(\"\", [list(z) for z in zip(days,date_dic.values())])\n",
    "                .set_global_opts(title_opts=opts.TitleOpts(title=\"Date frequency\",subtitle=database))\n",
    "                .set_series_opts(label_opts=opts.LabelOpts(formatter=\"{b}: {c}\")))\n",
    "            display(piedate.render_notebook())\n",
    "            procedure = 9\n",
    "            another_prompt()\n",
    "        else :\n",
    "            print('>>>Invalid input<<<\\n') \n",
    "    pass"
   ]
  },
  {
   "cell_type": "code",
   "execution_count": 134,
   "metadata": {},
   "outputs": [],
   "source": [
    "# def loc_count():\n",
    "#     if database == 'Corona_NLP_test.csv': File = file_test\n",
    "#     else : File = file_train\n",
    "#     procedure = 6\n",
    "#     while procedure == 6 :\n",
    "#         loc_value = int(input('How many location do you want ?'))\n",
    "#         output = input('what output do you want from date fequency ?\\n\\t(1) Text (2) Bar chart\\nOutput : ').lower()\n",
    "#         if exit(output) : \n",
    "#             if exit_prompting() == True : break\n",
    "#         elif output == '1' or output == 'text' :\n",
    "#             print(file_test['Location'].value_counts().nlargest(loc_value))      \n",
    "#             procedure = 9\n",
    "#             another_prompt()\n",
    "#         elif output == '2' or output == 'pie' or output == 'pie chart' :\n",
    "#             x = []\n",
    "#             y = []\n",
    "#             loc = File['Location'].value_counts().nlargest(loc_value)\n",
    "#             loc = loc.to_dict()\n",
    "#             for i in loc.keys() :\n",
    "#                 x.append(i)\n",
    "#             for j in loc.values() :\n",
    "#                 y.append(j)\n",
    "#             bar_result = (Bar()\n",
    "#                 .add_xaxis(x)\n",
    "#                 .add_yaxis('', y)\n",
    "#                 .set_global_opts(title_opts=opts.TitleOpts(title=\"Bar: Location Counting\", subtitle=database)))\n",
    "#             display(bar_result.render_notebook())\n",
    "#             procedure = 9\n",
    "#             another_prompt()   \n",
    "            \n",
    "        \n",
    "    "
   ]
  },
  {
   "cell_type": "code",
   "execution_count": 135,
   "metadata": {},
   "outputs": [],
   "source": [
    "def loc_count(procedure,File):\n",
    "    while procedure == 6 :\n",
    "        loc_value = int(input('\\nHow many location do you want ?'))\n",
    "        output = input('what output do you want from date fequency ?\\n\\t(1) Text (2) Picture\\nOutput : ').lower()\n",
    "        if exit(output) : \n",
    "            if exit_prompting() == True : break\n",
    "        elif output == '1' or output == 'text' :\n",
    "            print(file_test['Location'].value_counts().nlargest(loc_value))      \n",
    "            procedure = 9\n",
    "            another_prompt()\n",
    "        elif output == '2' or output == 'pie' or output == 'pie chart' :\n",
    "            loc_info = []\n",
    "            loc = File['Location'].value_counts().nlargest(loc_value)\n",
    "            loc = loc.to_dict()\n",
    "            for i in loc.items() :\n",
    "                loc_info.append(i)\n",
    "            words = loc_info\n",
    "            count_loc_wc = (WordCloud()\n",
    "                .add(\"\", words, word_size_range=[20, 150], shape='cardioid')\n",
    "                .set_global_opts(title_opts=opts.TitleOpts(title=\"Location frequence\",subtitle=database)))\n",
    "            display(count_loc_wc.render_notebook())\n",
    "            procedure = 9\n",
    "            another_prompt()"
   ]
  },
  {
   "cell_type": "code",
   "execution_count": 136,
   "metadata": {},
   "outputs": [
    {
     "name": "stdout",
     "output_type": "stream",
     "text": [
      "----------------------------------------------------------------\n",
      "Python Project Year 1 Semester 1\n",
      "----------------------------------------------------------------\n",
      "[ Project Member ]\n",
      "6487010 SIRICHET NONTICHAN\n",
      "6487046 PATTHAWEEKAN PANPLAB\n",
      "6487057 RAVISARA WILAIPONG\n",
      "6487067 AMONCHAI SRICHAICHU\n",
      "----------------------------------------------------------------\n",
      "If user want to exit the program please input \"exit\" in teminal\n",
      "----------------------------------------------------------------\n",
      "<<<<< EXITING >>>>>\n"
     ]
    }
   ],
   "source": [
    "print('----------------------------------------------------------------')\n",
    "print('Python Project Year 1 Semester 1')\n",
    "print('----------------------------------------------------------------')\n",
    "print('[ Project Member ]\\n6487010 SIRICHET NONTICHAN\\n6487046 PATTHAWEEKAN PANPLAB\\n6487057 RAVISARA WILAIPONG\\n6487067 AMONCHAI SRICHAICHU')\n",
    "print('----------------------------------------------------------------')\n",
    "print('If user want to exit the program please input \"exit\" in teminal')\n",
    "print('----------------------------------------------------------------')\n",
    "\n",
    "def main() :\n",
    "  if select_database() == True:\n",
    "    select_operation()\n",
    "main()"
   ]
  }
 ],
 "metadata": {
  "interpreter": {
   "hash": "afc24d71cb3a6f8153aaeb2a61927a4dc0f362022cff6cde42adba9a4007b9dc"
  },
  "kernelspec": {
   "display_name": "Python 3.8.10 64-bit (windows store)",
   "language": "python",
   "name": "python3"
  },
  "language_info": {
   "codemirror_mode": {
    "name": "ipython",
    "version": 3
   },
   "file_extension": ".py",
   "mimetype": "text/x-python",
   "name": "python",
   "nbconvert_exporter": "python",
   "pygments_lexer": "ipython3",
   "version": "3.8.10"
  },
  "orig_nbformat": 4
 },
 "nbformat": 4,
 "nbformat_minor": 2
}
